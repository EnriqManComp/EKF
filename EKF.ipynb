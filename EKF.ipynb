{
  "nbformat": 4,
  "nbformat_minor": 0,
  "metadata": {
    "colab": {
      "provenance": []
    },
    "kernelspec": {
      "name": "python3",
      "display_name": "Python 3"
    },
    "language_info": {
      "name": "python"
    }
  },
  "cells": [
    {
      "cell_type": "code",
      "execution_count": null,
      "metadata": {
        "id": "dKIW43r4vmE6"
      },
      "outputs": [],
      "source": [
        "import numpy as np\n",
        "import matplotlib.pyplot as plt\n",
        "from matplotlib.patches import Ellipse"
      ]
    },
    {
      "cell_type": "code",
      "source": [
        "v = 1\n",
        "w = 1\n",
        "dt = 0.01"
      ],
      "metadata": {
        "id": "sFYXloeGvm7M"
      },
      "execution_count": null,
      "outputs": []
    },
    {
      "cell_type": "code",
      "source": [
        "# Ruido en los controles\n",
        "U_noise = np.array([[np.random.normal(0,0.1)],[np.random.normal(0,0.1)]])"
      ],
      "metadata": {
        "id": "wxtOQNsDxPOl"
      },
      "execution_count": null,
      "outputs": []
    },
    {
      "cell_type": "code",
      "source": [
        "# Ruido en las observaciones\n",
        "Z_noise = np.array([[np.random.normal(0,0.01)],[np.random.normal(0,0.01)]])"
      ],
      "metadata": {
        "id": "N3-GFdZB-JjO"
      },
      "execution_count": null,
      "outputs": []
    },
    {
      "cell_type": "code",
      "source": [
        "# Matriz de controles U\n",
        "U_noisy = np.array([[v],[w]])+U_noise"
      ],
      "metadata": {
        "id": "RVfbrhNdvs2J"
      },
      "execution_count": null,
      "outputs": []
    },
    {
      "cell_type": "code",
      "source": [
        "# Estado inicial\n",
        "X = np.array([[1],[0],[0],[0],[0]])"
      ],
      "metadata": {
        "id": "yP9eweuu1NFu"
      },
      "execution_count": null,
      "outputs": []
    },
    {
      "cell_type": "code",
      "source": [
        "# Matriz de transición de estados\n",
        "A = np.eye(X.shape[0])"
      ],
      "metadata": {
        "id": "S_8B8hsOvo3r"
      },
      "execution_count": null,
      "outputs": []
    },
    {
      "cell_type": "code",
      "source": [
        "def pred(X_ant,A,U_noisy,dt,P,Q):\n",
        "  # Calculo de B\n",
        "  x_ant = X_ant[0]\n",
        "  y_ant = X_ant[1]\n",
        "  theta_ant = X_ant[2]\n",
        "  v_ant = X_ant[3]\n",
        "  w_ant = X_ant[4]\n",
        "  \n",
        "  X_ant = np.array([[x_ant],[y_ant],[theta_ant],[v_ant],[w_ant]])\n",
        "  # Matriz de relación de estados y controles\n",
        "  B = np.array([[(np.cos(theta_ant)*dt),0],[(np.sin(theta_ant)*dt),0],[0,dt],[1,0],[0,1]])\n",
        "  # Estado Xt\n",
        "  X = np.dot(A,X_ant) + np.dot(B,U_noisy)\n",
        "\n",
        "  # Predicción de la covarianza\n",
        "  # Jacobiano\n",
        "  Gt = np.eye(X.shape[0])\n",
        "  Gt[0,2] = -1*v*dt*np.sin(theta_ant)\n",
        "  Gt[1,2] = v*dt*np.cos(theta_ant)\n",
        "  P = np.dot(Gt,np.dot(P,Gt.T))+Q\n",
        "  return X,P"
      ],
      "metadata": {
        "id": "x70EtiRGyBYa"
      },
      "execution_count": null,
      "outputs": []
    },
    {
      "cell_type": "code",
      "source": [
        "def obs_diff(X_pred,Z_noise):\n",
        "  x = X_pred[0,0]\n",
        "  y = X_pred[1,0]\n",
        "  r_z = np.sqrt(x**2+y**2)\n",
        "  phi_z = np.arctan(y/x)\n",
        "  Zt_noisy = np.array([[r_z],[phi_z]])+Z_noise\n",
        "  hX_pred = np.array([[r_z],[phi_z]])\n",
        "  return Zt_noisy-hX_pred\n",
        "\n"
      ],
      "metadata": {
        "id": "tre256ad9aEC"
      },
      "execution_count": null,
      "outputs": []
    },
    {
      "cell_type": "code",
      "source": [
        "def correction(X_pred,P_pred,cov_obs,Z_noise):\n",
        "  x = X_pred[0]\n",
        "  y = X_pred[1]\n",
        "  theta = X_pred[2]\n",
        "  v = X_pred[3]\n",
        "  w = X_pred[4]\n",
        "  \n",
        "  X_pred = np.array([[x],[y],[theta],[v],[w]])\n",
        "  \n",
        "  # Jacobiano\n",
        "  Ht = np.zeros((2,5))\n",
        "  Ht[0,0] = x/np.sqrt(x**2+y**2)\n",
        "  Ht[0,1] = y/np.sqrt(x**2+y**2)\n",
        "  Ht[1,0] = -1*y/(x**2+y**2)\n",
        "  Ht[1,1] = x/(x**2+y**2)\n",
        "  # Kt\n",
        "  term = np.linalg.inv(np.dot(Ht,np.dot(P_pred,Ht.T))+cov_obs)\n",
        "  Kt = np.dot(P_pred,np.dot(Ht.T,term))\n",
        "  # Corrección del estado\n",
        "  term_1 = obs_diff(X_pred,Z_noise)\n",
        "  X_corr = X_pred + np.dot(Kt,term_1)\n",
        "\n",
        "  # Corrección de la covarianza\n",
        "  term_2 = np.eye(X.shape[0]) - np.dot(Kt,Ht) \n",
        "  P_corr = np.dot(term_2,P_pred)\n",
        "  return X_corr,P_corr"
      ],
      "metadata": {
        "id": "L-hz4pQ76bYb"
      },
      "execution_count": null,
      "outputs": []
    },
    {
      "cell_type": "code",
      "source": [
        "# Matriz de covarianza de estado\n",
        "Q = np.eye(X.shape[0])\n",
        "# Predicción de la covarianza del estado inicial\n",
        "P = 0.5*np.eye(X.shape[0])"
      ],
      "metadata": {
        "id": "yNvLfu3H1E27"
      },
      "execution_count": null,
      "outputs": []
    },
    {
      "cell_type": "code",
      "source": [
        "# Variable de estados\n",
        "X_pred = X\n",
        "# Variable de covarianzas\n",
        "P_pred = []\n",
        "P_pred.append(P) "
      ],
      "metadata": {
        "id": "BTjvhqCW4RO6"
      },
      "execution_count": null,
      "outputs": []
    },
    {
      "cell_type": "code",
      "source": [
        "# Matriz de covarianza de las observaciones\n",
        "cov_obs = 0.01*np.eye(2)"
      ],
      "metadata": {
        "id": "W9Xbz9YQ8dGJ"
      },
      "execution_count": null,
      "outputs": []
    },
    {
      "cell_type": "code",
      "source": [
        "X_corr = X\n",
        "P_corr = []\n",
        "P_corr.append(P)"
      ],
      "metadata": {
        "id": "T8tBecpf-6Z1"
      },
      "execution_count": null,
      "outputs": []
    },
    {
      "cell_type": "code",
      "source": [
        "state = 1\n",
        "while state < 1000:\n",
        "  # Predicción\n",
        "  X,P = pred(X_pred[:,(state-1)],A,U_noisy,dt,P_pred[state-1],Q)\n",
        "  X_pred = np.concatenate([X_pred,X],axis=1)\n",
        "  P_pred.append(P)\n",
        "  # Corrección\n",
        "  X_corr_temp,P_corr_temp = correction(X_pred[:,state],P_pred[state],cov_obs,Z_noise)\n",
        "  X_corr = np.concatenate([X_corr,X_corr_temp],axis=1)\n",
        "  P_corr.append(P_corr_temp)\n",
        "  \n",
        "  state = state + 1"
      ],
      "metadata": {
        "id": "kI7_B3bs3Wxb"
      },
      "execution_count": null,
      "outputs": []
    },
    {
      "cell_type": "code",
      "source": [
        "x = []\n",
        "y = []\n",
        "x_corr = []\n",
        "y_corr = []\n",
        "for i in range(X_pred.shape[1]):\n",
        "  x.append(X_pred[0,i]) \n",
        "  y.append(X_pred[1,i])\n",
        "  x_corr.append(X_corr[0,i]) \n",
        "  y_corr.append(X_corr[1,i]) "
      ],
      "metadata": {
        "id": "e9hj3_YD5xQO"
      },
      "execution_count": null,
      "outputs": []
    },
    {
      "cell_type": "code",
      "source": [
        "plt.title('Trayectoria del robot con predicción y corrección')\n",
        "plt.xlabel('x')\n",
        "plt.ylabel('y')\n",
        "plt.grid(True)\n",
        "plt.plot(x,y,label = 'Predicción')\n",
        "plt.plot(x_corr,y_corr,label = 'Corrección')\n",
        "plt.legend()"
      ],
      "metadata": {
        "colab": {
          "base_uri": "https://localhost:8080/",
          "height": 312
        },
        "id": "OZwYSVff5-SJ",
        "outputId": "687f4141-61a4-4208-d428-5bb85b558193"
      },
      "execution_count": null,
      "outputs": [
        {
          "output_type": "execute_result",
          "data": {
            "text/plain": [
              "<matplotlib.legend.Legend at 0x7fe39e110970>"
            ]
          },
          "metadata": {},
          "execution_count": 17
        },
        {
          "output_type": "display_data",
          "data": {
            "text/plain": [
              "<Figure size 432x288 with 1 Axes>"
            ],
            "image/png": "[encoded data removed]"
          },
          "metadata": {
            "needs_background": "light"
          }
        }
      ]
    }
  ]
}